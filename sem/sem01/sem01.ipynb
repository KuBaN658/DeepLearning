{
 "cells": [
  {
   "cell_type": "markdown",
   "metadata": {},
   "source": [
    "# Семинар 1: знакомство с PyTorch\n",
    "\n",
    "## Вступление\n",
    "\n",
    "В этом семинаре мы познакомимся с библиотекой **PyTorch**. Он очень похож на **NumPy**, с одним лишь отличием (на самом деле их больше, но сейчас мы поговорим про самое главное) — **PyTorch** может считать градиенты за вас. Таким образом вам не надо будет руками писать обратный проход в нейросетях.\n",
    "\n",
    "### План семинара:\n",
    "\n",
    "1. Вспоминаем **NumPy** и сравниваем операции его функциональность с **PyTorch**\n",
    "2. Создаем тензоры в **PyTorch** и изучаем больше базовых операций\n",
    "3. Работаем с градиентами руками\n",
    "4. Моя первая нейросеть"
   ]
  },
  {
   "cell_type": "code",
   "execution_count": 72,
   "metadata": {
    "tags": []
   },
   "outputs": [],
   "source": [
    "import matplotlib.pyplot as plt\n",
    "import numpy as np\n",
    "import torch\n",
    "import torch.nn.functional as F\n",
    "import torchvision\n",
    "\n",
    "from torch import nn\n",
    "from tqdm.notebook import tqdm\n",
    "\n",
    "%matplotlib inline"
   ]
  },
  {
   "cell_type": "markdown",
   "metadata": {},
   "source": [
    "### 1. Вспоминаем **NumPy** и сравниваем операции его функциональность с **PyTorch**\n",
    "\n",
    "Мы можем создавать матрицы, перемножать их, складывать, транспонировать и в целом совершать любые матричные операции"
   ]
  },
  {
   "cell_type": "code",
   "execution_count": 73,
   "metadata": {
    "tags": []
   },
   "outputs": [
    {
     "data": {
      "text/plain": [
       "array([[0.56294974, 0.88155684, 0.79854555],\n",
       "       [0.0093279 , 0.75888582, 0.49996652],\n",
       "       [0.95025555, 0.4010685 , 0.53812044],\n",
       "       [0.9649811 , 0.50991303, 0.24128111],\n",
       "       [0.49078242, 0.41626515, 0.16490782]])"
      ]
     },
     "execution_count": 73,
     "metadata": {},
     "output_type": "execute_result"
    }
   ],
   "source": [
    "# случайная матрица\n",
    "a = np.random.rand(5, 3)\n",
    "a"
   ]
  },
  {
   "cell_type": "code",
   "execution_count": 74,
   "metadata": {
    "tags": []
   },
   "outputs": [
    {
     "data": {
      "text/plain": [
       "(5, 3)"
      ]
     },
     "execution_count": 74,
     "metadata": {},
     "output_type": "execute_result"
    }
   ],
   "source": [
    "# размеры массива\n",
    "a.shape"
   ]
  },
  {
   "cell_type": "code",
   "execution_count": 75,
   "metadata": {
    "tags": []
   },
   "outputs": [
    {
     "data": {
      "text/plain": [
       "array([[5.56294974, 5.88155684, 5.79854555],\n",
       "       [5.0093279 , 5.75888582, 5.49996652],\n",
       "       [5.95025555, 5.4010685 , 5.53812044],\n",
       "       [5.9649811 , 5.50991303, 5.24128111],\n",
       "       [5.49078242, 5.41626515, 5.16490782]])"
      ]
     },
     "execution_count": 75,
     "metadata": {},
     "output_type": "execute_result"
    }
   ],
   "source": [
    "# сложение\n",
    "a + 5"
   ]
  },
  {
   "cell_type": "code",
   "execution_count": 76,
   "metadata": {
    "tags": []
   },
   "outputs": [
    {
     "data": {
      "text/plain": [
       "array([[1.73172986, 1.07349816, 1.31822448, 1.18542714, 0.77493363],\n",
       "       [1.07349816, 0.82596122, 0.58227129, 0.51659949, 0.40292407],\n",
       "       [1.31822448, 0.58227129, 1.35341516, 1.251327  , 0.72205983],\n",
       "       [1.18542714, 0.51659949, 1.251327  , 1.2494164 , 0.72564393],\n",
       "       [0.77493363, 0.40292407, 0.72205983, 0.72564393, 0.44133865]])"
      ]
     },
     "execution_count": 76,
     "metadata": {},
     "output_type": "execute_result"
    }
   ],
   "source": [
    "# матричное умножение\n",
    "a @ a.T"
   ]
  },
  {
   "cell_type": "code",
   "execution_count": 77,
   "metadata": {
    "tags": []
   },
   "outputs": [
    {
     "data": {
      "text/plain": [
       "array([0.74768404, 0.42272675, 0.62981483, 0.57205842, 0.35731846])"
      ]
     },
     "execution_count": 77,
     "metadata": {},
     "output_type": "execute_result"
    }
   ],
   "source": [
    "# среднее по колонкам\n",
    "a.mean(axis=-1)"
   ]
  },
  {
   "cell_type": "code",
   "execution_count": 78,
   "metadata": {
    "tags": []
   },
   "outputs": [
    {
     "data": {
      "text/plain": [
       "(3, 5)"
      ]
     },
     "execution_count": 78,
     "metadata": {},
     "output_type": "execute_result"
    }
   ],
   "source": [
    "# решейп\n",
    "a.reshape(3, 5).shape"
   ]
  },
  {
   "cell_type": "markdown",
   "metadata": {},
   "source": [
    "#### Разминка\n",
    "\n",
    "При помощи **NumPy** посчитайте сумму квадратов натуральных чисел от 1 до 10000."
   ]
  },
  {
   "cell_type": "code",
   "execution_count": 79,
   "metadata": {
    "tags": []
   },
   "outputs": [
    {
     "data": {
      "text/plain": [
       "333383335000"
      ]
     },
     "execution_count": 79,
     "metadata": {},
     "output_type": "execute_result"
    }
   ],
   "source": [
    "(np.arange(1, 10001, dtype=np.int64) ** 2).sum()"
   ]
  },
  {
   "cell_type": "markdown",
   "metadata": {},
   "source": [
    "Аналогичные операции в **PyTorch** очень похожи, но иногда имеют немного другой синтаксис"
   ]
  },
  {
   "cell_type": "code",
   "execution_count": 80,
   "metadata": {
    "tags": []
   },
   "outputs": [
    {
     "data": {
      "text/plain": [
       "tensor([[0.8546, 0.9502, 0.8455],\n",
       "        [0.8874, 0.3227, 0.8037],\n",
       "        [0.5552, 0.1782, 0.2849],\n",
       "        [0.8985, 0.9591, 0.0146],\n",
       "        [0.1609, 0.8104, 0.9887]])"
      ]
     },
     "execution_count": 80,
     "metadata": {},
     "output_type": "execute_result"
    }
   ],
   "source": [
    "# случайный тензор\n",
    "x = torch.rand(5, 3)\n",
    "x"
   ]
  },
  {
   "cell_type": "code",
   "execution_count": 81,
   "metadata": {
    "tags": []
   },
   "outputs": [
    {
     "data": {
      "text/plain": [
       "torch.Size([5, 3])"
      ]
     },
     "execution_count": 81,
     "metadata": {},
     "output_type": "execute_result"
    }
   ],
   "source": [
    "# размеры тензора\n",
    "x.shape"
   ]
  },
  {
   "cell_type": "code",
   "execution_count": 82,
   "metadata": {
    "tags": []
   },
   "outputs": [
    {
     "data": {
      "text/plain": [
       "torch.Size([5, 3])"
      ]
     },
     "execution_count": 82,
     "metadata": {},
     "output_type": "execute_result"
    }
   ],
   "source": [
    "# тоже размеры тензора\n",
    "x.size()"
   ]
  },
  {
   "cell_type": "code",
   "execution_count": 83,
   "metadata": {
    "tags": []
   },
   "outputs": [
    {
     "data": {
      "text/plain": [
       "tensor([[5.8546, 5.9502, 5.8455],\n",
       "        [5.8874, 5.3227, 5.8037],\n",
       "        [5.5552, 5.1782, 5.2849],\n",
       "        [5.8985, 5.9591, 5.0146],\n",
       "        [5.1609, 5.8104, 5.9887]])"
      ]
     },
     "execution_count": 83,
     "metadata": {},
     "output_type": "execute_result"
    }
   ],
   "source": [
    "# сложение\n",
    "x + 5"
   ]
  },
  {
   "cell_type": "code",
   "execution_count": 84,
   "metadata": {
    "tags": []
   },
   "outputs": [
    {
     "data": {
      "text/plain": [
       "tensor([[2.3481, 1.7445, 0.8846, 1.6916, 1.7435],\n",
       "        [1.7445, 1.5375, 0.7791, 1.1185, 1.1989],\n",
       "        [0.8846, 0.7791, 0.4211, 0.6739, 0.5154],\n",
       "        [1.6916, 1.1185, 0.6739, 1.7275, 0.9363],\n",
       "        [1.7435, 1.1989, 0.5154, 0.9363, 1.6601]])"
      ]
     },
     "execution_count": 84,
     "metadata": {},
     "output_type": "execute_result"
    }
   ],
   "source": [
    "# матричное умножение\n",
    "# читайте документации по различным вариантам: @, torch.mm, torch.matmul, torch.bmm\n",
    "torch.matmul(x, x.transpose(1, 0))"
   ]
  },
  {
   "cell_type": "code",
   "execution_count": 85,
   "metadata": {
    "tags": []
   },
   "outputs": [
    {
     "data": {
      "text/plain": [
       "tensor([[2.3481, 1.7445, 0.8846, 1.6916, 1.7435],\n",
       "        [1.7445, 1.5375, 0.7791, 1.1185, 1.1989],\n",
       "        [0.8846, 0.7791, 0.4211, 0.6739, 0.5154],\n",
       "        [1.6916, 1.1185, 0.6739, 1.7275, 0.9363],\n",
       "        [1.7435, 1.1989, 0.5154, 0.9363, 1.6601]])"
      ]
     },
     "execution_count": 85,
     "metadata": {},
     "output_type": "execute_result"
    }
   ],
   "source": [
    "# очередное матричное умножение\n",
    "x.mm(x.t())"
   ]
  },
  {
   "cell_type": "code",
   "execution_count": 86,
   "metadata": {
    "tags": []
   },
   "outputs": [
    {
     "data": {
      "text/plain": [
       "tensor([[7.3028e-01, 9.0297e-01, 7.1486e-01],\n",
       "        [7.8744e-01, 1.0413e-01, 6.4590e-01],\n",
       "        [3.0820e-01, 3.1755e-02, 8.1150e-02],\n",
       "        [8.0733e-01, 9.1991e-01, 2.1300e-04],\n",
       "        [2.5894e-02, 6.5678e-01, 9.7746e-01]])"
      ]
     },
     "execution_count": 86,
     "metadata": {},
     "output_type": "execute_result"
    }
   ],
   "source": [
    "# поэлементное умножение\n",
    "x * x"
   ]
  },
  {
   "cell_type": "code",
   "execution_count": 87,
   "metadata": {
    "tags": []
   },
   "outputs": [
    {
     "data": {
      "text/plain": [
       "tensor([0.8834, 0.6712, 0.3394, 0.6241, 0.6533])"
      ]
     },
     "execution_count": 87,
     "metadata": {},
     "output_type": "execute_result"
    }
   ],
   "source": [
    "# среднее по колонкам\n",
    "x.mean(dim=-1)"
   ]
  },
  {
   "cell_type": "code",
   "execution_count": 88,
   "metadata": {
    "tags": []
   },
   "outputs": [
    {
     "data": {
      "text/plain": [
       "torch.Size([3, 5])"
      ]
     },
     "execution_count": 88,
     "metadata": {},
     "output_type": "execute_result"
    }
   ],
   "source": [
    "# решейп\n",
    "x.view([3, 5]).shape"
   ]
  },
  {
   "cell_type": "code",
   "execution_count": 89,
   "metadata": {
    "tags": []
   },
   "outputs": [
    {
     "data": {
      "text/plain": [
       "torch.Size([3, 5])"
      ]
     },
     "execution_count": 89,
     "metadata": {},
     "output_type": "execute_result"
    }
   ],
   "source": [
    "# или так\n",
    "x.reshape([3, 5]).shape"
   ]
  },
  {
   "cell_type": "code",
   "execution_count": 90,
   "metadata": {
    "tags": []
   },
   "outputs": [
    {
     "data": {
      "text/plain": [
       "tensor([[ True, False, False, False, False],\n",
       "        [False, False,  True, False, False],\n",
       "        [False, False, False, False,  True]])"
      ]
     },
     "execution_count": 90,
     "metadata": {},
     "output_type": "execute_result"
    }
   ],
   "source": [
    "# будьте внимательны и не используйте view для транспонирования осей!\n",
    "x.view_as(x.t()) == x.t()"
   ]
  },
  {
   "cell_type": "markdown",
   "metadata": {},
   "source": [
    "Небольшой пример того, как меняются операции:\n",
    "\n",
    "* `x.reshape([1,2,8]) -> x.view(1,2,8)`\n",
    "\n",
    "* `x.sum(axis=-1) -> x.sum(dim=-1)`\n",
    "\n",
    "* `x.astype(\"int64\") -> x.type(torch.LongTensor)`\n",
    "\n",
    "Для помощи вам есть [таблица](https://github.com/torch/torch7/wiki/Torch-for-Numpy-users), которая поможет вам найти аналог **NumPy** операции в **PyTorch**\n"
   ]
  },
  {
   "cell_type": "markdown",
   "metadata": {},
   "source": [
    "#### Разминка на pytorch\n",
    "\n",
    "При помощи pytorch посчитайте сумму квадратов натуральных чисел от 1 до 10000."
   ]
  },
  {
   "cell_type": "code",
   "execution_count": 91,
   "metadata": {
    "tags": []
   },
   "outputs": [
    {
     "data": {
      "text/plain": [
       "333383335000"
      ]
     },
     "execution_count": 91,
     "metadata": {},
     "output_type": "execute_result"
    }
   ],
   "source": [
    "torch.sum(torch.arange(1, 10001) ** 2).item()"
   ]
  },
  {
   "cell_type": "markdown",
   "metadata": {},
   "source": [
    "### 2. Создаем тензоры в **PyTorch** и изучаем больше базовых операций"
   ]
  },
  {
   "cell_type": "code",
   "execution_count": 92,
   "metadata": {
    "tags": []
   },
   "outputs": [
    {
     "data": {
      "text/plain": [
       "tensor([[-7.4390e+00,  6.4320e-43, -7.4390e+00],\n",
       "        [ 6.4320e-43, -7.4390e+00,  6.4320e-43],\n",
       "        [-7.4390e+00,  6.4320e-43, -7.4390e+00],\n",
       "        [ 6.4320e-43, -7.4390e+00,  6.4320e-43],\n",
       "        [-7.4390e+00,  6.4320e-43, -7.4390e+00]])"
      ]
     },
     "execution_count": 92,
     "metadata": {},
     "output_type": "execute_result"
    }
   ],
   "source": [
    "# пустой тензор\n",
    "x = torch.empty(5, 3)\n",
    "x"
   ]
  },
  {
   "cell_type": "code",
   "execution_count": 93,
   "metadata": {
    "tags": []
   },
   "outputs": [
    {
     "data": {
      "text/plain": [
       "tensor([[0.2036, 0.4927, 0.6361],\n",
       "        [0.6111, 0.6280, 0.7045],\n",
       "        [0.1518, 0.5569, 0.9197],\n",
       "        [0.0148, 0.9667, 0.4336],\n",
       "        [0.1816, 0.9237, 0.0313]])"
      ]
     },
     "execution_count": 93,
     "metadata": {},
     "output_type": "execute_result"
    }
   ],
   "source": [
    "# случайный тензор ~ Uniform[0, 1)\n",
    "x = torch.rand(5, 3)\n",
    "x"
   ]
  },
  {
   "cell_type": "code",
   "execution_count": 94,
   "metadata": {
    "tags": []
   },
   "outputs": [
    {
     "data": {
      "text/plain": [
       "tensor([[0., 0., 0.],\n",
       "        [0., 0., 0.],\n",
       "        [0., 0., 0.],\n",
       "        [0., 0., 0.],\n",
       "        [0., 0., 0.]])"
      ]
     },
     "execution_count": 94,
     "metadata": {},
     "output_type": "execute_result"
    }
   ],
   "source": [
    "# тензор с нулями и указанием типов чисел\n",
    "x = torch.zeros(5, 3, dtype=torch.float32)\n",
    "x"
   ]
  },
  {
   "cell_type": "code",
   "execution_count": 95,
   "metadata": {
    "tags": []
   },
   "outputs": [
    {
     "data": {
      "text/plain": [
       "tensor([5.5000, 3.0000])"
      ]
     },
     "execution_count": 95,
     "metadata": {},
     "output_type": "execute_result"
    }
   ],
   "source": [
    "# конструируем тензор из питоновского листа\n",
    "x = torch.tensor([5.5, 3])\n",
    "x"
   ]
  },
  {
   "cell_type": "code",
   "execution_count": 96,
   "metadata": {
    "tags": []
   },
   "outputs": [
    {
     "data": {
      "text/plain": [
       "tensor([[1., 1., 1.],\n",
       "        [1., 1., 1.],\n",
       "        [1., 1., 1.],\n",
       "        [1., 1., 1.],\n",
       "        [1., 1., 1.]], dtype=torch.float64)"
      ]
     },
     "execution_count": 96,
     "metadata": {},
     "output_type": "execute_result"
    }
   ],
   "source": [
    "# используем уже созданный тензор для создания тензора из единичек\n",
    "x1 = x.new_ones(5, 3, dtype=torch.double)\n",
    "x1"
   ]
  },
  {
   "cell_type": "code",
   "execution_count": 97,
   "metadata": {
    "tags": []
   },
   "outputs": [
    {
     "data": {
      "text/plain": [
       "tensor([[-2.4122, -0.2195, -1.4982],\n",
       "        [ 0.1282,  0.5939, -0.6342],\n",
       "        [ 0.5513, -0.8294, -0.3622],\n",
       "        [ 0.5928, -0.1357,  0.3007],\n",
       "        [ 0.0802,  0.5750, -0.5252]])"
      ]
     },
     "execution_count": 97,
     "metadata": {},
     "output_type": "execute_result"
    }
   ],
   "source": [
    "# создаем случайный тензор с размерами другого тензора\n",
    "x = torch.randn_like(x1, dtype=torch.float)\n",
    "x"
   ]
  },
  {
   "cell_type": "code",
   "execution_count": 98,
   "metadata": {
    "tags": []
   },
   "outputs": [],
   "source": [
    "x = torch.rand(5, 3)\n",
    "y = torch.rand(5, 3)"
   ]
  },
  {
   "cell_type": "code",
   "execution_count": 99,
   "metadata": {
    "tags": []
   },
   "outputs": [
    {
     "data": {
      "text/plain": [
       "tensor([[0.7647, 0.1337, 0.1993],\n",
       "        [0.0047, 0.9426, 0.8665],\n",
       "        [0.8090, 0.8259, 0.3130],\n",
       "        [0.7575, 0.2164, 0.0879],\n",
       "        [0.9664, 0.0425, 0.8848]])"
      ]
     },
     "execution_count": 99,
     "metadata": {},
     "output_type": "execute_result"
    }
   ],
   "source": [
    "x"
   ]
  },
  {
   "cell_type": "code",
   "execution_count": 100,
   "metadata": {
    "tags": []
   },
   "outputs": [
    {
     "data": {
      "text/plain": [
       "tensor([[0.4884, 0.0962, 0.2902],\n",
       "        [0.1621, 0.8064, 0.9739],\n",
       "        [0.5461, 0.7974, 0.6398],\n",
       "        [0.0086, 0.5189, 0.1866],\n",
       "        [0.8064, 0.2451, 0.8844]])"
      ]
     },
     "execution_count": 100,
     "metadata": {},
     "output_type": "execute_result"
    }
   ],
   "source": [
    "y"
   ]
  },
  {
   "cell_type": "code",
   "execution_count": 101,
   "metadata": {
    "tags": []
   },
   "outputs": [
    {
     "data": {
      "text/plain": [
       "tensor([[1.2532, 0.2299, 0.4895],\n",
       "        [0.1668, 1.7489, 1.8403],\n",
       "        [1.3551, 1.6234, 0.9528],\n",
       "        [0.7661, 0.7353, 0.2745],\n",
       "        [1.7729, 0.2876, 1.7692]])"
      ]
     },
     "execution_count": 101,
     "metadata": {},
     "output_type": "execute_result"
    }
   ],
   "source": [
    "# сложение\n",
    "x + y"
   ]
  },
  {
   "cell_type": "code",
   "execution_count": 102,
   "metadata": {
    "tags": []
   },
   "outputs": [
    {
     "data": {
      "text/plain": [
       "tensor([[1.2532, 0.2299, 0.4895],\n",
       "        [0.1668, 1.7489, 1.8403],\n",
       "        [1.3551, 1.6234, 0.9528],\n",
       "        [0.7661, 0.7353, 0.2745],\n",
       "        [1.7729, 0.2876, 1.7692]])"
      ]
     },
     "execution_count": 102,
     "metadata": {},
     "output_type": "execute_result"
    }
   ],
   "source": [
    "# очередное сложение\n",
    "z = torch.add(x, y)\n",
    "z"
   ]
  },
  {
   "cell_type": "code",
   "execution_count": 103,
   "metadata": {
    "tags": []
   },
   "outputs": [
    {
     "data": {
      "text/plain": [
       "tensor([[1.2532, 0.2299, 0.4895],\n",
       "        [0.1668, 1.7489, 1.8403],\n",
       "        [1.3551, 1.6234, 0.9528],\n",
       "        [0.7661, 0.7353, 0.2745],\n",
       "        [1.7729, 0.2876, 1.7692]])"
      ]
     },
     "execution_count": 103,
     "metadata": {},
     "output_type": "execute_result"
    }
   ],
   "source": [
    "# наконец, ещё одно сложение!\n",
    "torch.add(x, y, out=x)\n",
    "x"
   ]
  },
  {
   "cell_type": "code",
   "execution_count": 104,
   "metadata": {
    "tags": []
   },
   "outputs": [
    {
     "data": {
      "text/plain": [
       "torch.Size([1, 5, 3])"
      ]
     },
     "execution_count": 104,
     "metadata": {},
     "output_type": "execute_result"
    }
   ],
   "source": [
    "# добавили измерение в начало, аналог броадкастинга\n",
    "x.unsqueeze(0).size()"
   ]
  },
  {
   "cell_type": "code",
   "execution_count": 105,
   "metadata": {
    "tags": []
   },
   "outputs": [
    {
     "data": {
      "text/plain": [
       "torch.Size([1, 5, 3])"
      ]
     },
     "execution_count": 105,
     "metadata": {},
     "output_type": "execute_result"
    }
   ],
   "source": [
    "# убрали одно единичное измерение\n",
    "x.unsqueeze(0).unsqueeze(1).squeeze(0).size()"
   ]
  },
  {
   "cell_type": "code",
   "execution_count": 106,
   "metadata": {
    "tags": []
   },
   "outputs": [
    {
     "data": {
      "text/plain": [
       "torch.Size([5, 3])"
      ]
     },
     "execution_count": 106,
     "metadata": {},
     "output_type": "execute_result"
    }
   ],
   "source": [
    "# убрали все единичные измерения\n",
    "x.unsqueeze(0).unsqueeze(1).squeeze().size()"
   ]
  },
  {
   "cell_type": "code",
   "execution_count": 107,
   "metadata": {
    "tags": []
   },
   "outputs": [
    {
     "data": {
      "text/plain": [
       "torch.Size([5, 3])"
      ]
     },
     "execution_count": 107,
     "metadata": {},
     "output_type": "execute_result"
    }
   ],
   "source": [
    "# операции без _ не меняют тензор, а создают копию\n",
    "x.unsqueeze(0)\n",
    "x.size()"
   ]
  },
  {
   "cell_type": "code",
   "execution_count": 108,
   "metadata": {
    "tags": []
   },
   "outputs": [
    {
     "data": {
      "text/plain": [
       "torch.Size([1, 5, 3])"
      ]
     },
     "execution_count": 108,
     "metadata": {},
     "output_type": "execute_result"
    }
   ],
   "source": [
    "# операции с _ меняют тензор\n",
    "x.unsqueeze_(0)\n",
    "x.size()"
   ]
  },
  {
   "cell_type": "markdown",
   "metadata": {},
   "source": [
    "Мы можем делать обычные срезы и переводить матрицы из **PyTorch** в **NumPy** и наоборот:"
   ]
  },
  {
   "cell_type": "code",
   "execution_count": 109,
   "metadata": {
    "tags": []
   },
   "outputs": [
    {
     "data": {
      "text/plain": [
       "True"
      ]
     },
     "execution_count": 109,
     "metadata": {},
     "output_type": "execute_result"
    }
   ],
   "source": [
    "a = np.ones((3, 5))\n",
    "x = torch.ones((3, 5))\n",
    "np.allclose(x.numpy(), a)"
   ]
  },
  {
   "cell_type": "code",
   "execution_count": 110,
   "metadata": {
    "tags": []
   },
   "outputs": [
    {
     "data": {
      "text/plain": [
       "True"
      ]
     },
     "execution_count": 110,
     "metadata": {},
     "output_type": "execute_result"
    }
   ],
   "source": [
    "np.allclose(x.numpy()[:, 1], a[:, 1])"
   ]
  },
  {
   "cell_type": "code",
   "execution_count": 111,
   "metadata": {
    "tags": []
   },
   "outputs": [
    {
     "data": {
      "text/plain": [
       "tensor([[1., 1., 1., 1., 1.],\n",
       "        [1., 1., 1., 1., 1.],\n",
       "        [1., 1., 1., 1., 1.]])"
      ]
     },
     "execution_count": 111,
     "metadata": {},
     "output_type": "execute_result"
    }
   ],
   "source": [
    "torch.from_numpy(x.numpy())"
   ]
  },
  {
   "cell_type": "markdown",
   "metadata": {},
   "source": [
    "### 3. Работаем с градиентами руками"
   ]
  },
  {
   "cell_type": "code",
   "execution_count": 112,
   "metadata": {
    "tags": []
   },
   "outputs": [],
   "source": [
    "import pandas as pd\n",
    "import numpy as np\n",
    "\n",
    "data_url = \"http://lib.stat.cmu.edu/datasets/boston\"\n",
    "raw_df = pd.read_csv(data_url, sep=\"\\s+\", skiprows=22, header=None)\n",
    "data = np.hstack([raw_df.values[::2, :], raw_df.values[1::2, :2]])\n",
    "target = raw_df.values[1::2, 2]"
   ]
  },
  {
   "cell_type": "code",
   "execution_count": 113,
   "metadata": {
    "tags": []
   },
   "outputs": [
    {
     "data": {
      "image/png": "[encoded data removed]",
      "text/plain": [
       "<Figure size 640x480 with 1 Axes>"
      ]
     },
     "metadata": {},
     "output_type": "display_data"
    }
   ],
   "source": [
    "plt.scatter(data[:, -1], target);"
   ]
  },
  {
   "cell_type": "markdown",
   "metadata": {},
   "source": [
    "В **PyTorch** есть возможность при создании тензора указывать нужно ли считать по нему градиент или нет, с помощью параметра `requires_grad`. Когда `requires_grad=True` мы сообщаем фреймворку, о том, что мы хотим следить за всеми тензорами, которые получаются из созданного. Иными словами, у любого тензора, у которого указан данный параметр, будет доступ к цепочке операций и преобразований совершенными с ними. Если эти функции дифференцируемые, то у тензора появляется параметр `.grad`, в котором хранится значение градиента."
   ]
  },
  {
   "attachments": {
    "torch_grad.png": {
     "image/png": "[encoded data removed]"
    }
   },
   "cell_type": "markdown",
   "metadata": {},
   "source": [
    "![torch_grad.png](attachment:torch_grad.png)"
   ]
  },
  {
   "cell_type": "markdown",
   "metadata": {},
   "source": [
    "Если к результирующему тензору применить метод `.backward()`, то фреймворк посчитает по цепочке градиенты для всех тензоров, у которых `requires_grad=True`."
   ]
  },
  {
   "cell_type": "code",
   "execution_count": 146,
   "metadata": {
    "tags": []
   },
   "outputs": [],
   "source": [
    "w = torch.rand(6, requires_grad=True)\n",
    "b = torch.rand(1, requires_grad=True)\n",
    "\n",
    "x = data[:, -1] / data[:, -1].max()\n",
    "X = torch.tensor(np.array([x, x ** 2, x ** 3, x ** 4, x ** 5, x ** 6]).T, dtype=torch.float32)\n",
    "\n",
    "y = torch.tensor(target, dtype=torch.float32)\n",
    "\n",
    "# только создали тензоры и в них нет градиентов\n",
    "# assert w.grad is None\n",
    "# assert b.grad is None"
   ]
  },
  {
   "cell_type": "code",
   "execution_count": 147,
   "metadata": {
    "tags": []
   },
   "outputs": [
    {
     "data": {
      "text/plain": [
       "(torch.Size([5, 3]), torch.Size([506]))"
      ]
     },
     "execution_count": 147,
     "metadata": {},
     "output_type": "execute_result"
    }
   ],
   "source": [
    "x1.size(), y.size()"
   ]
  },
  {
   "cell_type": "code",
   "execution_count": 148,
   "metadata": {
    "tags": []
   },
   "outputs": [],
   "source": [
    "y_pred = w @ X.T + b\n",
    "loss = torch.mean((y_pred - y) ** 2)\n",
    "loss.backward()"
   ]
  },
  {
   "cell_type": "code",
   "execution_count": 149,
   "metadata": {
    "tags": []
   },
   "outputs": [
    {
     "name": "stdout",
     "output_type": "stream",
     "text": [
      "dL/dw = tensor([-11.9071,  -4.4350,  -2.0887,  -1.1687,  -0.7426,  -0.5185])\n",
      "dL/db = tensor([-43.6251])\n"
     ]
    }
   ],
   "source": [
    "# сделали операции и посчитали градиенты, появилось значение соответствующих полей\n",
    "assert w.grad is not None\n",
    "assert b.grad is not None\n",
    "\n",
    "print(f\"dL/dw = {w.grad}\")\n",
    "print(f\"dL/db = {b.grad}\")"
   ]
  },
  {
   "cell_type": "markdown",
   "metadata": {},
   "source": [
    "Для доступа к значениям в тензоре используйте атрибут `.data`:"
   ]
  },
  {
   "cell_type": "code",
   "execution_count": 150,
   "metadata": {
    "tags": []
   },
   "outputs": [
    {
     "data": {
      "text/plain": [
       "(tensor([0.4250, 0.1534, 0.1038, 0.4476, 0.8790, 0.0919]),\n",
       " tensor([-11.9071,  -4.4350,  -2.0887,  -1.1687,  -0.7426,  -0.5185]))"
      ]
     },
     "execution_count": 150,
     "metadata": {},
     "output_type": "execute_result"
    }
   ],
   "source": [
    "w.data, w.grad"
   ]
  },
  {
   "cell_type": "code",
   "execution_count": 151,
   "metadata": {
    "tags": []
   },
   "outputs": [
    {
     "data": {
      "text/plain": [
       "tensor([0.4250, 0.1534, 0.1038, 0.4476, 0.8790, 0.0919], requires_grad=True)"
      ]
     },
     "execution_count": 151,
     "metadata": {},
     "output_type": "execute_result"
    }
   ],
   "source": [
    "w"
   ]
  },
  {
   "cell_type": "code",
   "execution_count": 153,
   "metadata": {
    "tags": []
   },
   "outputs": [
    {
     "data": {
      "image/png": "[encoded data removed]",
      "text/plain": [
       "<Figure size 1000x800 with 1 Axes>"
      ]
     },
     "metadata": {},
     "output_type": "display_data"
    },
    {
     "name": "stdout",
     "output_type": "stream",
     "text": [
      "loss =  33.95116\n"
     ]
    }
   ],
   "source": [
    "from IPython.display import clear_output\n",
    "\n",
    "for i in range(3000):\n",
    "    y_pred = w @ X.T + b\n",
    "    # попробуйте сделать полиномиальную регрессию в данном предсказании и посчитать градиенты после\n",
    "    loss = torch.mean((y_pred - y) ** 2)\n",
    "    loss.backward()\n",
    "\n",
    "    # делаем шаг градиентного спуска с lr = .05\n",
    "    w.data -= 0.05 * w.grad\n",
    "    b.data -= 0.05 * b.grad\n",
    "\n",
    "    # обнуляем градиенты, чтобы на следующем шаге опять посчитать и не аккумулировать их\n",
    "    w.grad.data.zero_()\n",
    "    b.grad.data.zero_()\n",
    "\n",
    "    # рисуем картинки\n",
    "    if (i + 1) % 5 == 0:\n",
    "        clear_output(True)\n",
    "        plt.figure(figsize=(10, 8))\n",
    "        plt.scatter(X[:, 0].data.numpy(), y.data.numpy(), label=\"data\")\n",
    "        plt.scatter(\n",
    "            X[:, 0].data.numpy(),\n",
    "            y_pred.data.numpy(),\n",
    "            color=\"orange\",\n",
    "            linewidth=5,\n",
    "            label=\"predictions\",\n",
    "        )\n",
    "        plt.xlabel(\"LSTAT\", fontsize=14)\n",
    "        plt.ylabel(\"MEDV (target)\", fontsize=14)\n",
    "        plt.title(\"Boston modelling\", fontsize=18)\n",
    "        plt.legend(fontsize=14)\n",
    "        plt.show()\n",
    "\n",
    "        print(\"loss = \", loss.data.numpy())\n",
    "        if loss.data.numpy() < 0.1:\n",
    "            print(\"Done!\")\n",
    "            break"
   ]
  },
  {
   "cell_type": "markdown",
   "metadata": {},
   "source": [
    "### 4. Моя первая нейросеть\n",
    "\n",
    "Для того, чтобы разобраться как обучать нейросети в **PyTorch**, нужно освоить три вещи:\n",
    "\n",
    "1. Как формировать батчи и подавать их на вход сети\n",
    "2. Как задать архитектуру сети\n",
    "3. Как написать цикл обучения и отслеживать метрики\n",
    "\n",
    "#### Как формировать батчи и подавать их на вход нейросети\n",
    "\n",
    "Чтобы иметь возможность итерироваться по данным и применять к ним преобразования (например, аугментации, о которых вы узнаете позже), нужно создать свой класс унаследованный от `torch.utils.data.Dataset`.\n",
    "\n",
    "У такого класса **должно быть** три метода:\n",
    "\n",
    "* `__init__` — создаёт поля класса (например, путь к папке с файлами с тренировочными объектами)\n",
    "* `__len__` — возвращает информацию о том, сколько объектов у нас в датасете\n",
    "* `__getitem__` — по индексу возвращает семпл и таргет к нему\n",
    "\n",
    "\n",
    "Давайте напишем такой сами, в качестве данных используя рандомные значения."
   ]
  },
  {
   "cell_type": "code",
   "execution_count": 156,
   "metadata": {
    "tags": []
   },
   "outputs": [],
   "source": [
    "class RandomDataset(torch.utils.data.Dataset):\n",
    "    \"\"\"\n",
    "    Our random dataset\n",
    "    \"\"\"\n",
    "\n",
    "    def __init__(self, x, y):\n",
    "        self.x = x\n",
    "        self.y = y\n",
    "\n",
    "    def __len__(self):\n",
    "        return len(self.x)\n",
    "\n",
    "    def __getitem__(self, idx):\n",
    "        return {\n",
    "            \"sample\": torch.tensor(self.x[idx, :], dtype=torch.float),\n",
    "            \"target\": self.y[idx],\n",
    "        }"
   ]
  },
  {
   "cell_type": "code",
   "execution_count": 157,
   "metadata": {
    "tags": []
   },
   "outputs": [],
   "source": [
    "x = np.random.rand(1000, 5)\n",
    "y = np.random.rand(1000)"
   ]
  },
  {
   "cell_type": "code",
   "execution_count": 158,
   "metadata": {
    "tags": []
   },
   "outputs": [],
   "source": [
    "our_dataset = RandomDataset(x, y)"
   ]
  },
  {
   "cell_type": "code",
   "execution_count": 159,
   "metadata": {
    "tags": []
   },
   "outputs": [
    {
     "data": {
      "text/plain": [
       "{'sample': tensor([0.3192, 0.2444, 0.4745, 0.3011, 0.8708]),\n",
       " 'target': 0.9445530896126065}"
      ]
     },
     "execution_count": 159,
     "metadata": {},
     "output_type": "execute_result"
    }
   ],
   "source": [
    "our_dataset.__getitem__(1)"
   ]
  },
  {
   "cell_type": "markdown",
   "metadata": {},
   "source": [
    "Для того, чтобы из данных получать батчи в pytorch используется такая сущность как даталоадер, который принимает на вход класс унаследованный от `torch.utils.data.Dataset`. Сейчас посмотрим на пример:"
   ]
  },
  {
   "cell_type": "code",
   "execution_count": 160,
   "metadata": {
    "tags": []
   },
   "outputs": [],
   "source": [
    "dataloader = torch.utils.data.DataLoader(our_dataset, batch_size=4)"
   ]
  },
  {
   "cell_type": "markdown",
   "metadata": {},
   "source": [
    "Работают с ним следующим образом:"
   ]
  },
  {
   "cell_type": "code",
   "execution_count": 161,
   "metadata": {
    "tags": []
   },
   "outputs": [
    {
     "name": "stdout",
     "output_type": "stream",
     "text": [
      "Sample:\n",
      "tensor([[0.4583, 0.5296, 0.1999, 0.8814, 0.8501],\n",
      "        [0.3192, 0.2444, 0.4745, 0.3011, 0.8708],\n",
      "        [0.8890, 0.2965, 0.0762, 0.5877, 0.4053],\n",
      "        [0.0899, 0.2281, 0.4446, 0.7088, 0.6635]])\n",
      "Target:\n",
      "tensor([0.9341, 0.9446, 0.9331, 0.6481], dtype=torch.float64)\n"
     ]
    }
   ],
   "source": [
    "batch = next(iter(dataloader))\n",
    "\n",
    "print(f\"Sample:\\n{batch['sample']}\")\n",
    "print(f\"Target:\\n{batch['target']}\")"
   ]
  },
  {
   "cell_type": "markdown",
   "metadata": {},
   "source": [
    "#### Как сделать нейросеть"
   ]
  },
  {
   "cell_type": "markdown",
   "metadata": {},
   "source": [
    "Для того, чтобы в high-level **PyTorch** создавать нейросети, используется модуль `torch.nn`. Нейросеть должна быть унаследована от класса `nn.Module`. Пример как это может выглядеть:\n",
    "\n",
    "```\n",
    "class Model(nn.Module):\n",
    "    def __init__(self):\n",
    "        super(Model, self).__init__()\n",
    "        self.conv1 = nn.Conv2d(1, 20, 5)\n",
    "        self.conv2 = nn.Conv2d(20, 20, 5)\n",
    "\n",
    "    def forward(self, x):\n",
    "       x = F.relu(self.conv1(x))\n",
    "       return F.relu(self.conv2(x))\n",
    "```\n",
    "\n",
    "Как мы видим на данном примере, у данного класса **должен быть** метод `forward`, который определяет прямой проход нейросети. Также из класса выше видно, что модуль `nn` содержит в себе реализацию большинства слоев, а модуль `nn.functional` -- функций активаций.\n",
    "\n",
    "Есть еще один способ создать нейросеть и давайте его разберем на практике:"
   ]
  },
  {
   "cell_type": "code",
   "execution_count": 162,
   "metadata": {
    "tags": []
   },
   "outputs": [],
   "source": [
    "model = nn.Sequential()  # создаем пустую модель, в которую будем добавлять слои\n",
    "model.add_module(\n",
    "    \"l1\", nn.Linear(5, 30)\n",
    ")  # добавили слой с 5-ю нейронами на вход и 3-мя на выход\n",
    "model.add_module(\"l2\", nn.ReLU())  # добавили функцию активации\n",
    "model.add_module(\n",
    "    \"l3\", nn.Linear(30, 1)\n",
    ")  # добавили слой с 3-мя нейронами на вход и 5-ю на выход\n",
    "\n",
    "# альтернативный способ\n",
    "another_model = nn.Sequential(nn.Linear(5, 30), nn.ReLU(), nn.Linear(30, 1))"
   ]
  },
  {
   "cell_type": "code",
   "execution_count": 163,
   "metadata": {
    "tags": []
   },
   "outputs": [],
   "source": [
    "y_pred = model(batch[\"sample\"])  # получили предсказания модели"
   ]
  },
  {
   "cell_type": "markdown",
   "metadata": {},
   "source": [
    "#### Как написать цикл обучения и отслеживать метрики\n",
    " \n",
    "Давайте теперь соберем теперь загрузку данных, создание модели и обучим на уже созданном для нас датасете MNIST"
   ]
  },
  {
   "cell_type": "code",
   "execution_count": 164,
   "metadata": {
    "tags": []
   },
   "outputs": [
    {
     "name": "stdout",
     "output_type": "stream",
     "text": [
      "Downloading http://yann.lecun.com/exdb/mnist/train-images-idx3-ubyte.gz\n",
      "Downloading http://yann.lecun.com/exdb/mnist/train-images-idx3-ubyte.gz to ./mnist/MNIST\\raw\\train-images-idx3-ubyte.gz\n"
     ]
    },
    {
     "name": "stderr",
     "output_type": "stream",
     "text": [
      "100%|██████████| 9912422/9912422 [00:05<00:00, 1795649.83it/s]\n"
     ]
    },
    {
     "name": "stdout",
     "output_type": "stream",
     "text": [
      "Extracting ./mnist/MNIST\\raw\\train-images-idx3-ubyte.gz to ./mnist/MNIST\\raw\n",
      "\n",
      "Downloading http://yann.lecun.com/exdb/mnist/train-labels-idx1-ubyte.gz\n",
      "Downloading http://yann.lecun.com/exdb/mnist/train-labels-idx1-ubyte.gz to ./mnist/MNIST\\raw\\train-labels-idx1-ubyte.gz\n"
     ]
    },
    {
     "name": "stderr",
     "output_type": "stream",
     "text": [
      "100%|██████████| 28881/28881 [00:00<00:00, 1595906.59it/s]\n"
     ]
    },
    {
     "name": "stdout",
     "output_type": "stream",
     "text": [
      "Extracting ./mnist/MNIST\\raw\\train-labels-idx1-ubyte.gz to ./mnist/MNIST\\raw\n",
      "\n",
      "Downloading http://yann.lecun.com/exdb/mnist/t10k-images-idx3-ubyte.gz\n",
      "Downloading http://yann.lecun.com/exdb/mnist/t10k-images-idx3-ubyte.gz to ./mnist/MNIST\\raw\\t10k-images-idx3-ubyte.gz\n"
     ]
    },
    {
     "name": "stderr",
     "output_type": "stream",
     "text": [
      "100%|██████████| 1648877/1648877 [00:01<00:00, 1190084.66it/s]\n"
     ]
    },
    {
     "name": "stdout",
     "output_type": "stream",
     "text": [
      "Extracting ./mnist/MNIST\\raw\\t10k-images-idx3-ubyte.gz to ./mnist/MNIST\\raw\n",
      "\n",
      "Downloading http://yann.lecun.com/exdb/mnist/t10k-labels-idx1-ubyte.gz\n",
      "Downloading http://yann.lecun.com/exdb/mnist/t10k-labels-idx1-ubyte.gz to ./mnist/MNIST\\raw\\t10k-labels-idx1-ubyte.gz\n"
     ]
    },
    {
     "name": "stderr",
     "output_type": "stream",
     "text": [
      "100%|██████████| 4542/4542 [00:00<?, ?it/s]"
     ]
    },
    {
     "name": "stdout",
     "output_type": "stream",
     "text": [
      "Extracting ./mnist/MNIST\\raw\\t10k-labels-idx1-ubyte.gz to ./mnist/MNIST\\raw\n",
      "\n"
     ]
    },
    {
     "name": "stderr",
     "output_type": "stream",
     "text": [
      "\n"
     ]
    }
   ],
   "source": [
    "# используем готовый класс от торча для загрузки данных для тренировки\n",
    "mnist_train = torchvision.datasets.MNIST(\n",
    "    \"./mnist/\", train=True, download=True, transform=torchvision.transforms.ToTensor()\n",
    ")\n",
    "mnist_val = torchvision.datasets.MNIST(\n",
    "    \"./mnist/\", train=False, download=True, transform=torchvision.transforms.ToTensor()\n",
    ")\n",
    "\n",
    "# так как это уже унаследованный от Dataset класс, его можно сразу обернуть в даталоадер\n",
    "train_dataloader = torch.utils.data.DataLoader(\n",
    "    mnist_train, batch_size=4, shuffle=True, num_workers=1\n",
    ")\n",
    "\n",
    "val_dataloader = torch.utils.data.DataLoader(\n",
    "    mnist_val, batch_size=4, shuffle=False, num_workers=1\n",
    ")"
   ]
  },
  {
   "cell_type": "code",
   "execution_count": 165,
   "metadata": {
    "scrolled": true,
    "tags": []
   },
   "outputs": [
    {
     "data": {
      "image/png": "[encoded data removed]",
      "text/plain": [
       "<Figure size 640x480 with 2 Axes>"
      ]
     },
     "metadata": {},
     "output_type": "display_data"
    }
   ],
   "source": [
    "# посмотрим на то, с чем мы работаем\n",
    "for i in [0, 1]:\n",
    "    plt.subplot(1, 2, i + 1)\n",
    "    plt.imshow(mnist_train[i][0].squeeze(0).numpy().reshape([28, 28]))\n",
    "    plt.title(str(mnist_train[i][1]))\n",
    "plt.show()"
   ]
  },
  {
   "cell_type": "code",
   "execution_count": 166,
   "metadata": {
    "tags": []
   },
   "outputs": [],
   "source": [
    "model = nn.Sequential(\n",
    "    nn.Flatten(),  # превращаем картинку 28х28 в вектор размером 784\n",
    "    nn.Linear(\n",
    "        28 * 28, 128\n",
    "    ),  # линейный слой, преобразующий вектор размера 784 в вектор размера 128\n",
    "    nn.ReLU(),  # нелинейность\n",
    "    nn.Linear(\n",
    "        128, 10\n",
    "    ),  # линейный слой, преобразующий вектор размера 128 в вектор размера 10\n",
    ")\n",
    "\n",
    "# создаем оптимизатор, который будет обновлять веса модели\n",
    "optimizer = torch.optim.SGD(model.parameters(), lr=0.05)"
   ]
  },
  {
   "cell_type": "markdown",
   "metadata": {},
   "source": [
    "Веса моделей хранятся в виде матриц и выглядят так:"
   ]
  },
  {
   "cell_type": "code",
   "execution_count": 167,
   "metadata": {
    "tags": []
   },
   "outputs": [
    {
     "data": {
      "text/plain": [
       "[('1.weight',\n",
       "  Parameter containing:\n",
       "  tensor([[-0.0027, -0.0087,  0.0139,  ..., -0.0017,  0.0177,  0.0033],\n",
       "          [-0.0228,  0.0113,  0.0090,  ..., -0.0061,  0.0169, -0.0258],\n",
       "          [-0.0195, -0.0005, -0.0231,  ...,  0.0127,  0.0069, -0.0181],\n",
       "          ...,\n",
       "          [ 0.0340,  0.0222,  0.0299,  ..., -0.0116,  0.0309,  0.0286],\n",
       "          [ 0.0132,  0.0129,  0.0334,  ..., -0.0173,  0.0239,  0.0056],\n",
       "          [ 0.0048, -0.0192,  0.0093,  ..., -0.0192, -0.0113,  0.0253]],\n",
       "         requires_grad=True)),\n",
       " ('1.bias',\n",
       "  Parameter containing:\n",
       "  tensor([-2.1420e-02,  2.0401e-02, -1.5773e-02,  2.0787e-02, -2.0610e-02,\n",
       "           1.8356e-02,  3.0137e-02,  2.8692e-02,  2.9158e-02, -2.4071e-02,\n",
       "           2.8213e-02, -2.3126e-03,  3.0594e-03, -2.3939e-02, -8.0198e-05,\n",
       "           5.3972e-03,  7.8294e-03,  1.4309e-03,  1.6172e-02,  1.4295e-02,\n",
       "           4.7634e-03, -1.9507e-02, -3.2984e-02,  1.3018e-02, -1.7445e-02,\n",
       "           3.4382e-02, -1.1120e-03, -2.7909e-02,  1.1342e-02, -2.2268e-02,\n",
       "           2.2965e-02,  1.7405e-02,  3.1163e-02,  2.9810e-02,  2.8707e-02,\n",
       "           2.2686e-02,  1.1708e-02, -8.8766e-03, -1.1188e-02, -8.1218e-04,\n",
       "           1.2181e-02, -1.4071e-02, -2.0175e-02, -8.2084e-03, -6.0990e-03,\n",
       "          -2.2015e-02,  3.0296e-02,  2.2548e-02,  1.0962e-02, -2.4956e-02,\n",
       "           1.8193e-02,  6.1488e-03,  2.2839e-02, -1.8735e-03,  1.3329e-02,\n",
       "          -1.6263e-02, -2.3164e-02, -1.1865e-03, -8.1977e-03,  5.7790e-03,\n",
       "          -2.6830e-03, -1.8292e-02,  1.8927e-02, -3.1623e-02,  2.0452e-02,\n",
       "          -1.2758e-02, -1.7639e-02, -2.3272e-02,  1.4857e-02,  2.6853e-03,\n",
       "           1.1633e-02,  8.6624e-03, -1.7838e-02, -2.4729e-02,  8.4954e-03,\n",
       "          -3.5642e-02, -2.3367e-02,  3.0459e-02,  2.9526e-02, -1.3336e-02,\n",
       "          -2.0855e-02,  2.9500e-02, -2.5852e-02, -3.4605e-02, -1.9358e-02,\n",
       "           3.5379e-02,  3.4607e-02, -2.1849e-02,  1.1704e-02,  1.2490e-02,\n",
       "          -2.5779e-02, -8.6907e-03,  3.1612e-02,  1.3821e-02,  1.0889e-02,\n",
       "          -3.4613e-02,  1.8837e-02,  1.2073e-02, -2.1678e-03,  3.4637e-02,\n",
       "           1.2872e-02,  5.8644e-03, -3.2694e-02,  1.4258e-02,  2.1105e-02,\n",
       "          -1.1659e-02, -1.4367e-02, -2.7547e-02,  8.1441e-03, -2.9355e-02,\n",
       "          -3.5451e-02,  2.5231e-02,  2.9093e-02, -3.3421e-02, -2.4079e-02,\n",
       "           3.2771e-02, -2.4657e-02, -1.2528e-02, -2.1087e-02,  1.3829e-02,\n",
       "           1.0452e-02,  3.3539e-03, -2.7708e-02,  3.9100e-03,  3.0756e-02,\n",
       "           2.6446e-02,  1.5899e-02, -6.4909e-03], requires_grad=True)),\n",
       " ('3.weight',\n",
       "  Parameter containing:\n",
       "  tensor([[-0.0005,  0.0525, -0.0338,  ...,  0.0537, -0.0489, -0.0024],\n",
       "          [ 0.0374, -0.0384,  0.0236,  ..., -0.0133,  0.0348,  0.0158],\n",
       "          [-0.0724,  0.0490,  0.0701,  ...,  0.0448,  0.0532, -0.0313],\n",
       "          ...,\n",
       "          [-0.0268,  0.0305,  0.0211,  ...,  0.0574,  0.0701, -0.0269],\n",
       "          [ 0.0527, -0.0170,  0.0380,  ...,  0.0053,  0.0205, -0.0009],\n",
       "          [-0.0548,  0.0050,  0.0129,  ...,  0.0332,  0.0300, -0.0795]],\n",
       "         requires_grad=True)),\n",
       " ('3.bias',\n",
       "  Parameter containing:\n",
       "  tensor([-0.0519,  0.0806, -0.0450, -0.0820, -0.0365,  0.0711, -0.0783,  0.0429,\n",
       "           0.0545,  0.0469], requires_grad=True))]"
      ]
     },
     "execution_count": 167,
     "metadata": {},
     "output_type": "execute_result"
    }
   ],
   "source": [
    "[x for x in model.named_parameters()]"
   ]
  },
  {
   "cell_type": "markdown",
   "metadata": {},
   "source": [
    "Вместо того, чтобы каждый раз самим рисовать графики в `matplotlib`, мы будем _красиво_ трекать метрики в полуавтоматическом режиме в [wandb](https://wandb.ai). Для этого регистрируемся на сайте, устанавливаем и логинимся (это того стоит).\n",
    "\n",
    "Note. Помимо этого инструмента есть другие альтернативы: Tensorboard (очень минималистичный, работает локально), MLFlow (менее красивый, но опенсорсный), Neptune (примерно как W&B)."
   ]
  },
  {
   "cell_type": "code",
   "execution_count": 169,
   "metadata": {
    "pycharm": {
     "is_executing": true
    },
    "tags": []
   },
   "outputs": [
    {
     "name": "stderr",
     "output_type": "stream",
     "text": [
      "\u001b[34m\u001b[1mwandb\u001b[0m: Currently logged in as: \u001b[33mgarkovski_dmitri\u001b[0m (\u001b[33mkuban23_\u001b[0m). Use \u001b[1m`wandb login --relogin`\u001b[0m to force relogin\n"
     ]
    },
    {
     "data": {
      "text/html": [
       "Tracking run with wandb version 0.15.8"
      ],
      "text/plain": [
       "<IPython.core.display.HTML object>"
      ]
     },
     "metadata": {},
     "output_type": "display_data"
    },
    {
     "data": {
      "text/html": [
       "Run data is saved locally in <code>C:\\Users\\user\\Desktop\\DeepLearning\\sem\\sem01\\wandb\\run-20230813_143039-3n4xkae6</code>"
      ],
      "text/plain": [
       "<IPython.core.display.HTML object>"
      ]
     },
     "metadata": {},
     "output_type": "display_data"
    },
    {
     "data": {
      "text/html": [
       "Syncing run <strong><a href='https://wandb.ai/kuban23_/pytorch-demo/runs/3n4xkae6' target=\"_blank\">stellar-eon-3</a></strong> to <a href='https://wandb.ai/kuban23_/pytorch-demo' target=\"_blank\">Weights & Biases</a> (<a href='https://wandb.me/run' target=\"_blank\">docs</a>)<br/>"
      ],
      "text/plain": [
       "<IPython.core.display.HTML object>"
      ]
     },
     "metadata": {},
     "output_type": "display_data"
    },
    {
     "data": {
      "text/html": [
       " View project at <a href='https://wandb.ai/kuban23_/pytorch-demo' target=\"_blank\">https://wandb.ai/kuban23_/pytorch-demo</a>"
      ],
      "text/plain": [
       "<IPython.core.display.HTML object>"
      ]
     },
     "metadata": {},
     "output_type": "display_data"
    },
    {
     "data": {
      "text/html": [
       " View run at <a href='https://wandb.ai/kuban23_/pytorch-demo/runs/3n4xkae6' target=\"_blank\">https://wandb.ai/kuban23_/pytorch-demo/runs/3n4xkae6</a>"
      ],
      "text/plain": [
       "<IPython.core.display.HTML object>"
      ]
     },
     "metadata": {},
     "output_type": "display_data"
    }
   ],
   "source": [
    "# !pip install wandb --upgrade --quiet\n",
    "import wandb\n",
    "\n",
    "# логинимся в своего пользователя (предварительно нужно ввести ключ из настроек с wandb.ai через консоль)\n",
    "wandb.login()\n",
    "# инициализируем проект\n",
    "wandb.init(project=\"pytorch-demo\")\n",
    "# сохраняем параметры сетки в wandb + просим следить за градиентами сетки\n",
    "wandb.watch(model);"
   ]
  },
  {
   "cell_type": "markdown",
   "metadata": {},
   "source": [
    "Можно перейти по ссылке и следить за нашей моделью прямо во время обучения!"
   ]
  },
  {
   "cell_type": "code",
   "execution_count": 170,
   "metadata": {
    "tags": []
   },
   "outputs": [
    {
     "data": {
      "application/vnd.jupyter.widget-view+json": {
       "model_id": "529bda3e101d4c5bb256eb2ee42258a6",
       "version_major": 2,
       "version_minor": 0
      },
      "text/plain": [
       "  0%|          | 0/15000 [00:00<?, ?it/s]"
      ]
     },
     "metadata": {},
     "output_type": "display_data"
    },
    {
     "data": {
      "application/vnd.jupyter.widget-view+json": {
       "model_id": "66b0b9d9715c4461b397084837b314a6",
       "version_major": 2,
       "version_minor": 0
      },
      "text/plain": [
       "  0%|          | 0/2500 [00:00<?, ?it/s]"
      ]
     },
     "metadata": {},
     "output_type": "display_data"
    },
    {
     "name": "stdout",
     "output_type": "stream",
     "text": [
      "Epoch: 0, loss: 0.1183769628405571, accuracy: 0.9623\n"
     ]
    },
    {
     "data": {
      "application/vnd.jupyter.widget-view+json": {
       "model_id": "8f4ba1e407364e1180d01a8ac8a68f6d",
       "version_major": 2,
       "version_minor": 0
      },
      "text/plain": [
       "  0%|          | 0/15000 [00:00<?, ?it/s]"
      ]
     },
     "metadata": {},
     "output_type": "display_data"
    },
    {
     "data": {
      "application/vnd.jupyter.widget-view+json": {
       "model_id": "cd0f0934b37b45a891f5588f0f7806c8",
       "version_major": 2,
       "version_minor": 0
      },
      "text/plain": [
       "  0%|          | 0/15000 [00:00<?, ?it/s]"
      ]
     },
     "metadata": {},
     "output_type": "display_data"
    },
    {
     "data": {
      "application/vnd.jupyter.widget-view+json": {
       "model_id": "7462e64b9fd34ba7830cdc2d36812993",
       "version_major": 2,
       "version_minor": 0
      },
      "text/plain": [
       "  0%|          | 0/2500 [00:00<?, ?it/s]"
      ]
     },
     "metadata": {},
     "output_type": "display_data"
    },
    {
     "name": "stdout",
     "output_type": "stream",
     "text": [
      "Epoch: 2, loss: 0.08701175451278687, accuracy: 0.9744\n"
     ]
    },
    {
     "data": {
      "application/vnd.jupyter.widget-view+json": {
       "model_id": "a331dea4d973473a997c3bff2c2ebf91",
       "version_major": 2,
       "version_minor": 0
      },
      "text/plain": [
       "  0%|          | 0/15000 [00:00<?, ?it/s]"
      ]
     },
     "metadata": {},
     "output_type": "display_data"
    },
    {
     "data": {
      "application/vnd.jupyter.widget-view+json": {
       "model_id": "6d389c11613e4ada85e76207bd3aa943",
       "version_major": 2,
       "version_minor": 0
      },
      "text/plain": [
       "  0%|          | 0/15000 [00:00<?, ?it/s]"
      ]
     },
     "metadata": {},
     "output_type": "display_data"
    },
    {
     "data": {
      "application/vnd.jupyter.widget-view+json": {
       "model_id": "278b4ee13df04821ba43725aa09d92d8",
       "version_major": 2,
       "version_minor": 0
      },
      "text/plain": [
       "  0%|          | 0/2500 [00:00<?, ?it/s]"
      ]
     },
     "metadata": {},
     "output_type": "display_data"
    },
    {
     "name": "stdout",
     "output_type": "stream",
     "text": [
      "Epoch: 4, loss: 0.09468063712120056, accuracy: 0.9743\n"
     ]
    }
   ],
   "source": [
    "# всего у нас будет 5 эпох (5 раз подряд пройдемся по всем батчам из трейна)\n",
    "for epoch in range(5):\n",
    "    for x_train, y_train in tqdm(train_dataloader):  # берем батч из трейн лоадера\n",
    "        y_pred = model(x_train)  # делаем предсказания\n",
    "        loss = F.cross_entropy(y_pred, y_train)  # считаем лосс\n",
    "        loss.backward()  # считаем градиенты обратным проходом\n",
    "        optimizer.step()  # обновляем параметры сети\n",
    "        optimizer.zero_grad()  # обнуляем посчитанные градиенты параметров\n",
    "\n",
    "    if epoch % 2 == 0:\n",
    "        val_loss = []  # сюда будем складывать **средний по бачу** лосс\n",
    "        val_accuracy = []\n",
    "        with torch.no_grad():  # на валидации запрещаем фреймворку считать градиенты по параметрам\n",
    "            for x_val, y_val in tqdm(\n",
    "                val_dataloader\n",
    "            ):  # берем батч из валидационного лоадера\n",
    "                y_pred = model(x_val)  # делаем предсказания\n",
    "                loss = F.cross_entropy(y_pred, y_val)  # считаем лосс\n",
    "                val_loss.append(loss.numpy())  # добавляем в массив\n",
    "                val_accuracy.extend(\n",
    "                    (torch.argmax(y_pred, dim=-1) == y_val).numpy().tolist()\n",
    "                )\n",
    "\n",
    "        # скидываем метрики на wandb и автоматом смотрим на графики\n",
    "        wandb.log(\n",
    "            {\n",
    "                \"mean val loss\": np.mean(val_loss),\n",
    "                \"mean val accuracy\": np.mean(val_accuracy),\n",
    "            }\n",
    "        )\n",
    "\n",
    "        # печатаем метрики\n",
    "        print(\n",
    "            f\"Epoch: {epoch}, loss: {np.mean(val_loss)}, accuracy: {np.mean(val_accuracy)}\"\n",
    "        )"
   ]
  },
  {
   "cell_type": "markdown",
   "metadata": {},
   "source": [
    "### Дополнительные материалы:\n",
    "\n",
    "* [Хорошая книга про pytorch](https://isip.piconepress.com/courses/temple/ece_4822/resources/books/Deep-Learning-with-PyTorch.pdf)\n",
    "* [Использование pytorch на GPU](https://pytorch.org/docs/master/notes/cuda.html)\n",
    "* [Pytorch за 60 минут](http://pytorch.org/tutorials/beginner/deep_learning_60min_blitz.html)\n",
    "* [Как устроено автоматическое дифференцирование в pytorch](http://videolectures.net/site/normal_dl/tag=1129745/deeplearning2017_johnson_automatic_differentiation_01.pdf)"
   ]
  }
 ],
 "metadata": {
  "kernelspec": {
   "display_name": "Python 3 (ipykernel)",
   "language": "python",
   "name": "python3"
  },
  "language_info": {
   "codemirror_mode": {
    "name": "ipython",
    "version": 3
   },
   "file_extension": ".py",
   "mimetype": "text/x-python",
   "name": "python",
   "nbconvert_exporter": "python",
   "pygments_lexer": "ipython3",
   "version": "3.11.3"
  }
 },
 "nbformat": 4,
 "nbformat_minor": 4
}
